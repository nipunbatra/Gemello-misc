{
 "cells": [
  {
   "cell_type": "markdown",
   "metadata": {},
   "source": [
    "### Load data set with features"
   ]
  },
  {
   "cell_type": "code",
   "execution_count": 1,
   "metadata": {
    "collapsed": false
   },
   "outputs": [
    {
     "name": "stderr",
     "output_type": "stream",
     "text": [
      "Vendor:  Continuum Analytics, Inc.\n",
      "Package: mkl\n",
      "Message: trial mode expires in 30 days\n"
     ]
    }
   ],
   "source": [
    "from create_df import read_df\n",
    "df, dfc, all_homes, appliance_min, national_average = read_df()"
   ]
  },
  {
   "cell_type": "code",
   "execution_count": 2,
   "metadata": {
    "collapsed": false
   },
   "outputs": [],
   "source": [
    "import numpy as np\n",
    "import matplotlib.pyplot as plt\n",
    "%matplotlib inline\n"
   ]
  },
  {
   "cell_type": "code",
   "execution_count": 14,
   "metadata": {
    "collapsed": false
   },
   "outputs": [],
   "source": [
    "run all_functions.py"
   ]
  },
  {
   "cell_type": "code",
   "execution_count": 15,
   "metadata": {
    "collapsed": false
   },
   "outputs": [],
   "source": [
    "run features.py"
   ]
  },
  {
   "cell_type": "code",
   "execution_count": 16,
   "metadata": {
    "collapsed": true
   },
   "outputs": [],
   "source": [
    "import json"
   ]
  },
  {
   "cell_type": "code",
   "execution_count": 17,
   "metadata": {
    "collapsed": false
   },
   "outputs": [],
   "source": [
    "import json\n",
    "optimal_dict_median =json.load(open(\"optimal_dict_cv1.json\",\"r\"))"
   ]
  },
  {
   "cell_type": "code",
   "execution_count": 18,
   "metadata": {
    "collapsed": false
   },
   "outputs": [
    {
     "name": "stdout",
     "output_type": "stream",
     "text": [
      "hvac\n",
      "light\n",
      "wm\n",
      "fridge\n",
      "dw\n",
      "dr\n"
     ]
    }
   ],
   "source": [
    "out = find_precision_recall_outlier(df, all_homes, optimal_dict_median)"
   ]
  },
  {
   "cell_type": "code",
   "execution_count": 19,
   "metadata": {
    "collapsed": false
   },
   "outputs": [
    {
     "data": {
      "text/plain": [
       "{'dr': {'precision': 0.0,\n",
       "  'predicted_outliers': [624, 7016, 9922, 9934],\n",
       "  'recall': 0.0,\n",
       "  'true_outliers': array([  410.,  2242.,  2814.,  7731.,  7769.])},\n",
       " 'dw': {'precision': 0.0,\n",
       "  'predicted_outliers': [3482, 5357, 6636],\n",
       "  'recall': 0.0,\n",
       "  'true_outliers': array([  624.,  2242.,  3723.,  9934.])},\n",
       " 'fridge': {'precision': 0.0,\n",
       "  'predicted_outliers': [2156, 2242, 5357],\n",
       "  'recall': 0.0,\n",
       "  'true_outliers': array([ 3456.,  3723.,  5371.,  6072.,  6636.])},\n",
       " 'hvac': {'precision': 0.25,\n",
       "  'predicted_outliers': [2156, 5357, 9922, 9934],\n",
       "  'recall': 0.14285714285714285,\n",
       "  'true_outliers': array([  545.,   624.,  1283.,  2242.,  5357.,  6836.,  7769.])},\n",
       " 'light': {'precision': 0.0,\n",
       "  'predicted_outliers': [9609, 9922],\n",
       "  'recall': 0.0,\n",
       "  'true_outliers': array([ 3367.,  6072.,  7866.])},\n",
       " 'wm': {'precision': 0.0,\n",
       "  'predicted_outliers': [5357, 9922],\n",
       "  'recall': 0.0,\n",
       "  'true_outliers': array([  545.,  2470.,  3456.,  9654.])}}"
      ]
     },
     "execution_count": 19,
     "metadata": {},
     "output_type": "execute_result"
    }
   ],
   "source": [
    "out"
   ]
  },
  {
   "cell_type": "code",
   "execution_count": 34,
   "metadata": {
    "collapsed": false
   },
   "outputs": [],
   "source": [
    "def true_outlier_percentile(appliance, month, percentile=95):\n",
    "    temp = df['%s_%d' %(appliance, month)]\n",
    "    return temp[temp>np.percentile(temp.dropna(), percentile)]"
   ]
  },
  {
   "cell_type": "code",
   "execution_count": 39,
   "metadata": {
    "collapsed": false
   },
   "outputs": [
    {
     "data": {
      "text/plain": [
       "545     108.417007\n",
       "1283     74.585701\n",
       "2129    122.545265\n",
       "2156    112.408203\n",
       "2242    186.422791\n",
       "5357    295.338776\n",
       "5371    145.899567\n",
       "5439    145.899567\n",
       "5746    119.131432\n",
       "9922    160.928375\n",
       "9933     84.481125\n",
       "9934    151.141983\n",
       "Name: hvac_4, dtype: float64"
      ]
     },
     "execution_count": 39,
     "metadata": {},
     "output_type": "execute_result"
    }
   ],
   "source": [
    "true_outlier_percentile(\"hvac\",4,80)"
   ]
  },
  {
   "cell_type": "code",
   "execution_count": 21,
   "metadata": {
    "collapsed": true
   },
   "outputs": [],
   "source": [
    "from common_functions import latexify, format_axes"
   ]
  },
  {
   "cell_type": "code",
   "execution_count": 23,
   "metadata": {
    "collapsed": false
   },
   "outputs": [
    {
     "data": {
      "image/png": "[encoded data removed]",
      "text/plain": [
       "<matplotlib.figure.Figure at 0x13f196750>"
      ]
     },
     "metadata": {},
     "output_type": "display_data"
    }
   ],
   "source": [
    "latexify()\n",
    "pd.DataFrame(out).T.plot(kind=\"bar\",rot=0)\n",
    "format_axes(plt.gca())\n",
    "plt.savefig(\"/Users/nipunbatra/git/monthly-disaggregation/results/outlier_p_r.pdf\",bbox_inches=\"tight\")\n",
    "plt.savefig(\"/Users/nipunbatra/git/monthly-disaggregation/results/outlier_p_r.png\",bbox_inches=\"tight\")"
   ]
  },
  {
   "cell_type": "code",
   "execution_count": 48,
   "metadata": {
    "collapsed": false
   },
   "outputs": [
    {
     "data": {
      "text/plain": [
       "[33, 14, 17, 21, 26, 32]"
      ]
     },
     "execution_count": 48,
     "metadata": {},
     "output_type": "execute_result"
    }
   ],
   "source": [
    "map(len, all_homes.values())"
   ]
  },
  {
   "cell_type": "code",
   "execution_count": 49,
   "metadata": {
    "collapsed": false
   },
   "outputs": [
    {
     "name": "stdout",
     "output_type": "stream",
     "text": [
      "hvac 33\n",
      "light 14\n",
      "wm 17\n",
      "fridge 21\n",
      "dw 26\n",
      "dr 32\n"
     ]
    }
   ],
   "source": [
    "for appliance, h in all_homes.iteritems():\n",
    "    print appliance, len(h)"
   ]
  },
  {
   "cell_type": "code",
   "execution_count": null,
   "metadata": {
    "collapsed": true
   },
   "outputs": [],
   "source": []
  }
 ],
 "metadata": {
  "kernelspec": {
   "display_name": "Python 2",
   "language": "python",
   "name": "python2"
  },
  "language_info": {
   "codemirror_mode": {
    "name": "ipython",
    "version": 2
   },
   "file_extension": ".py",
   "mimetype": "text/x-python",
   "name": "python",
   "nbconvert_exporter": "python",
   "pygments_lexer": "ipython2",
   "version": "2.7.11"
  }
 },
 "nbformat": 4,
 "nbformat_minor": 0
}
